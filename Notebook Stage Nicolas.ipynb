{
 "cells": [
  {
   "cell_type": "markdown",
   "metadata": {},
   "source": [
    "# Multiclass Multiple Kernel Learning using SHOGUN\n",
    "\n",
    "Le but de ce Notebook est d'expliquer, étapes par étapes, ce que réalise ce code, inspiré de l'exemple fourni par Shogun."
   ]
  },
  {
   "cell_type": "markdown",
   "metadata": {},
   "source": [
    "## Principe du Multiple Kernel Learning\n",
    "\n",
    "Un algorithme de Multiple Kernel Learning (MKL) a pour but de combiner plusieurs kernels, de façon optimale, en vue d'optimiser la prédiction du classifieur.\n",
    "\n",
    "Avoir recours au MKL peut avoir deux intérêts :\n",
    "- Proposer plusieurs kernels au \"Learner\" pour un même jeu de données, afin que celui-ci puisse choisir le ou les kernels adapté(s)\n",
    "- Avoir recours à plusieurs données hétérogènes auxquelles sont associées un ou plusieurs kernels, et pouvoir les combiner pour bénéficier de ces différentes sources d'information. \n",
    "\n",
    "Sur Shogun, le \"Learner\" utilisé est la SVM. \n",
    "Pour la partie MKL, Shogun pose un problème d'optimisation dans lequel il va tenter de minimiser la somme de deux termes : un terme d'erreur et un terme de complexité. Il s'agit de la méthode de minimisation des risques structurels. \n",
    "Il recherche ainsi à résoudre un problème en formulation SILP (Semi-Infinite Linear Programming), et suit pour cela une méthode en deux étapes : \n",
    "- dans la première, il optimise le vecteur de poids des kernels\n",
    "- dans la deuxième, il trouve les paramètres de la SVM \n",
    "\n",
    "Ces deux itérations s'enchaînent jusqu'à convergence. \n",
    "\n",
    "##### La section suivante explicite plus en détail le problème d'optimisation résolu par Shogun. Il s'agit d'un développement théorique. Passez à la section suivante pour l'explication du code. \n",
    "\n",
    "Pour mieux comprendre le fonctionnement de cette librairie, on peut s'interesser à la façon dont le problème de classification est résolu. \n",
    "\n",
    "Il s'agit en fait de reformuler le problème sous une forme SILP, c'est-à-dire que la fonction objectif et les contraintes seront linéaires, mais qu'il y a une infinité de contraintes.\n",
    "\n",
    "Ces contraintes sont relatives aux valeurs alpha des multiplicateurs lagrangiens du problème posé par la SVM. Ces valeurs peuvent varier sur le segment [0 ; C] (où C représente le coût de la classification). Il y a donc une infinité de possibilités. \n",
    "\n",
    "Pour résoudre le problème, l'algorithme va fonctionner en deux étapes.\n",
    "- Il va tout d'abord prendre un lot fini de contraintes et trouver la solution optimale du sous-problème ainsi posé.\n",
    "- Il entre alors dans la deuxième étape, où il va générer, à partir de la solution de la première étape, la contrainte la plus sévère parmi l'ensemble des contraintes inexploitées. \n",
    "- Cette contrainte est alors ajoutée au lot de contraintes de la première étape.\n",
    "    - Si la contrainte est satisfaite, alors cela veut dire que la solution est optimale, et l'algorithme s'arrête\n",
    "    - Si la contrainte n'est pas satisfaite, alors on trouve une nouvelle solution au sous-problème et on reboucle. \n",
    "    \n",
    "Le critère d'arrêt de l'algorithme est donc lié à la valeur de la violation de la contrainte la plus sévère. On définit ainsi un seuil mkl_epsilon, tel que, si la valeur de la violation est inférieure à ce seuil, alors on considère que la solution est optimale. \n",
    "\n",
    "Voyons maintenant en quoi consiste l'algorithme."
   ]
  },
  {
   "cell_type": "code",
   "execution_count": 1,
   "metadata": {},
   "outputs": [],
   "source": [
    "#import sys\n",
    "#import os\n",
    "#shogun_path=\"/usr/local/lib/python2.7/site-packages/\"\n",
    "#sys.path.append(shogun_path)\n",
    "#print(sys.path)\n",
    "#from modshogun import *"
   ]
  },
  {
   "cell_type": "markdown",
   "metadata": {},
   "source": [
    "Anciennement, on utilisait les instructions ci-dessus pour importer les éléments nécessaires. \n",
    "\n",
    "Il est également possible de faire comme suit (maintenant que l'utilisation n'est plus locale sur ozzy). "
   ]
  },
  {
   "cell_type": "code",
   "execution_count": 2,
   "metadata": {
    "collapsed": true
   },
   "outputs": [],
   "source": [
    "import sys\n",
    "import os\n",
    "from modshogun import *"
   ]
  },
  {
   "cell_type": "code",
   "execution_count": 3,
   "metadata": {},
   "outputs": [
    {
     "name": "stderr",
     "output_type": "stream",
     "text": [
      "/home/global/anaconda2/lib/python2.7/site-packages/PIL/Image.py:77: RuntimeWarning: The _imaging extension was built for another version of Pillow or PIL: Core Version: 4.1.1Pillow Version:  4.2.1\n",
      "  warnings.warn(str(v), RuntimeWarning)\n",
      "/home/global/anaconda2/lib/python2.7/site-packages/PIL/Image.py:77: RuntimeWarning: The _imaging extension was built for another version of Pillow or PIL: Core Version: 4.1.1Pillow Version:  4.2.1\n",
      "  warnings.warn(str(v), RuntimeWarning)\n"
     ]
    },
    {
     "name": "stdout",
     "output_type": "stream",
     "text": [
      "Populating the interactive namespace from numpy and matplotlib\n"
     ]
    },
    {
     "name": "stderr",
     "output_type": "stream",
     "text": [
      "/home/global/anaconda2/lib/python2.7/site-packages/PIL/Image.py:77: RuntimeWarning: The _imaging extension was built for another version of Pillow or PIL: Core Version: 4.1.1Pillow Version:  4.2.1\n",
      "  warnings.warn(str(v), RuntimeWarning)\n"
     ]
    }
   ],
   "source": [
    "%pylab inline\n",
    "%matplotlib inline\n",
    "from scipy.io import loadmat, savemat\n",
    "from os       import path, sep\n",
    "import time"
   ]
  },
  {
   "cell_type": "markdown",
   "metadata": {},
   "source": [
    "Après avoir importé les éléments dont nous avons besoin pour faire fonctionner l'algorithme, nous définissons nos données."
   ]
  },
  {
   "cell_type": "code",
   "execution_count": 4,
   "metadata": {
    "collapsed": true
   },
   "outputs": [],
   "source": [
    "mat  = loadmat('/NAS/dumbo/protocoles/CogPhenoPark/data/cogphenoparkCli3.mat')\n",
    "mat2  = loadmat('/NAS/dumbo/protocoles/CogPhenoPark/data/cogphenopark_New.mat')\n",
    "mat3 = loadmat('/NAS/dumbo/protocoles/CogPhenoPark/data/cogphenopark_anova.mat') \n",
    "mat4 = loadmat('/home/nrossignol/Documents/Score_Cli_normalised.mat')\n",
    "mat5 = loadmat('/home/nrossignol/Documents/Connectome_normalised.mat')\n",
    "mat6 = loadmat('/home/nrossignol/Documents/MATLAB/new_dataCliCopy.mat')\n",
    "mat7 = loadmat('/home/nrossignol/Documents/MATLAB/new_conn_norm.mat')\n",
    "mat8 = loadmat('/home/nrossignol/Documents/MATLAB/new_label.mat')\n",
    "\n",
    "mat9 = loadmat('/home/nrossignol/Documents/MATLAB/score_cli1.mat')\n",
    "mat10 = loadmat('/home/nrossignol/Documents/MATLAB/score_cli2.mat')\n",
    "mat11 = loadmat('/home/nrossignol/Documents/MATLAB/score_cli3.mat')"
   ]
  },
  {
   "cell_type": "markdown",
   "metadata": {},
   "source": [
    "Nous créons ensuite deux éléments : \n",
    "- une matrice X qui contient l'ensemble des features de nos patients, de dimension nb_features x nb_individus\n",
    "- un vecteur Y qui contient les classes (ou labels) de chaque individu, i.e un vecteur ligne de dimension nb_individus\n",
    "\n",
    "Précisons que si nous avons plus de 2 classes, il faut attribuer à chacune d'entre elle un nombre entier, en partant de 0. (0, 1, 2, ...)\n",
    "\n",
    "Par ailleurs, si on travaille sur plusieurs jeux de données, alors on définit plusieurs vecteurs X, à raison de un pour chaque jeu de features. "
   ]
  },
  {
   "cell_type": "code",
   "execution_count": 5,
   "metadata": {},
   "outputs": [
    {
     "name": "stdout",
     "output_type": "stream",
     "text": [
      "(3, 112)\n",
      "(13366, 112)\n",
      "[ 0.  0.  0.  0.  0.  0.  0.  0.  0.  0.  0.  0.  0.  0.  0.  0.  0.  0.\n",
      "  0.  0.  0.  0.  0.  0.  0.  0.  0.  0.  0.  0.  0.  0.  0.  0.  0.  0.\n",
      "  0.  0.  0.  0.  0.  1.  1.  1.  1.  1.  1.  2.  2.  2.  2.  2.  2.  2.\n",
      "  2.  2.  2.  2.  2.  2.  2.  2.  2.  2.  2.  2.  2.  2.  2.  2.  2.  2.\n",
      "  2.  2.  2.  2.  3.  3.  3.  3.  3.  3.  3.  3.  3.  3.  3.  3.  3.  3.\n",
      "  3.  3.  3.  3.  3.  3.  3.  3.  3.  3.  3.  3.  3.  3.  3.  3.  4.  4.\n",
      "  4.  4.  4.  4.]\n"
     ]
    }
   ],
   "source": [
    "#Xall1 = mat['dataCli'] #z-scores cliniques\n",
    "#Xall2 = mat2['newData'] #connectomes\n",
    "#Xall2 = mat3['data'] #connectomes_anova\n",
    "\n",
    "Xall1 = mat4['dataCliCopy'] #z-scores cliniques normalisés\n",
    "Xall2 = mat5['conn_norm'] #connectomes normalisés\n",
    "\n",
    "#Xall1 = mat6['new_dataCliCopy'] #z-scores cliniques normalisés classes 1, 3 et 4\n",
    "#Xall2 = mat7['new_conn_norm'] #connectomes normalisés classes 1, 3 et 4\n",
    "\n",
    "#Xall1 = mat9['score_cli1'] #z-scores cliniques normalisés\n",
    "#Xall2 = mat10['score_cli2'] #connectomes normalisés\n",
    "#Xall3 = mat11['score_cli3'] #connectomes normalisés\n",
    "\n",
    "Yall = array(mat['label'].squeeze(), dtype=double)\n",
    "\n",
    "print Xall1.shape\n",
    "print Xall2.shape\n",
    "#print Xall3.shape\n",
    "\n",
    "Yall = Yall - 1\n",
    "#on fait partir nos classes de 0\n",
    "\n",
    "print Yall"
   ]
  },
  {
   "cell_type": "markdown",
   "metadata": {},
   "source": [
    "## Approche générale\n",
    "\n",
    "On explique ici le principe de l'algorithme.\n",
    "Celui-ci étant amené à fonctionner en Leave-one-out, on se fixe un i pour étudier ce que fait l'algorithme lors d'une itération. \n",
    "\n",
    "On définit une liste d'indices \"ind\" qui fait la même taille que notre vecteur des labels Y. Si la longueur de Y est n, alors ind sera la liste des entiers de 0 à n-1 [0, ..., n-1]. Cela ne présente pas de problème pour python, le premier élément d'une liste est l'élément d'indice 0. On ne perd donc pas d'individu avec cette démarche.\n",
    "\n",
    "De cette liste, on va extraire le i-ème élément, qui sera l'indice de notre élément de test."
   ]
  },
  {
   "cell_type": "code",
   "execution_count": 6,
   "metadata": {
    "collapsed": true
   },
   "outputs": [],
   "source": [
    "i = 40 \n",
    "ind = range (len(Yall))\n",
    "del ind[i]"
   ]
  },
  {
   "cell_type": "markdown",
   "metadata": {},
   "source": [
    "On définit maintenant la matrice de nos données d'entraînement, Xtrain, à raison de 1 pour chaque jeu de features. \n",
    "Si le but est de réaliser du Leave-one-out, il suffit de reprendre l'ensemble de nos lignes (qui correspondent à nos features), ainsi que toutes les colonnes de la liste ind (c'est à dire toutes sauf la i-ème). \n",
    "\n",
    "On définit également notre vecteur label Ytrain associé à nos données d'entraînement de la même façon.\n",
    "\n",
    "Afin de reconnaître les différentes classes contenues dans Ytrain, on utlise la fonction MulticlassLabels().\n",
    "Cette fonction n'est utile que dans le cas d'un nombre de classes supérieur à 2. Il faut faire appel à une autre fonction pour la classification binaire.\n",
    "\n",
    "De même, on extrait les features de nos données contenues dans Xtrain à l'aide de la fonction Realfeatures(). Cette fonction est la même, que l'on soit en binaire ou en multi-classes. \n",
    "\n",
    "Enfin, on refait les mêmes opérations pour nos données de test. "
   ]
  },
  {
   "cell_type": "code",
   "execution_count": 7,
   "metadata": {
    "collapsed": true
   },
   "outputs": [],
   "source": [
    "Xtrain1 = Xall1[:,ind]\n",
    "Xtrain2 = Xall2[:,ind]\n",
    "#Xtrain3 = Xall3[:,ind]\n",
    "\n",
    "Ytrain = Yall[ind]\n",
    "\n",
    "labels = MulticlassLabels(Ytrain)\n",
    "\n",
    "feats1  = RealFeatures(Xtrain1)\n",
    "feats2  = RealFeatures(Xtrain2)\n",
    "#feats3  = RealFeatures(Xtrain3)\n",
    "\n",
    "Xrem1 = Xall1[:, i:i+1]\n",
    "Xrem2 = Xall2[:, i:i+1]\n",
    "#Xrem3 = Xall3[:, i:i+1]\n",
    "\n",
    "Yrem = Yall[i:i+1]\n",
    "\n",
    "labels_rem = MulticlassLabels(Yrem)\n",
    "\n",
    "feats_rem1 = RealFeatures(Xrem1)\n",
    "feats_rem2 = RealFeatures(Xrem2)\n",
    "#feats_rem3 = RealFeatures(Xrem3)"
   ]
  },
  {
   "cell_type": "markdown",
   "metadata": {},
   "source": [
    "On définit ici de nouvelles variables.\n",
    "\n",
    "La fonction CombinedFeatures() permet de créer une liste de l'ensemble des features associées à chacun de nos jeux de données, tout en gardant un pointeur vers le kernel auquel ces features sont associées. \n",
    "Par exemple, si j'ai un total de deux kernels associés chacun à un jeu de features, la fonction CombinedFeature() contiendra toutes les features, divisées en 2 sous-lots pointant chacun vers leur kernel respectif. \n",
    "\n",
    "Parallèlement, la fonction CombinedKernel() contiendra tous les kernels que l'on souhaite utiliser dans notre classification. \n",
    "\n",
    "Précision : \n",
    "\n",
    "Si l'on souhaite utiliser plusieurs kernels sur un même jeu de données, il y a 2 possibilités :\n",
    "- la fonction CombinedFeatures() peut prendre autant de sous-lots de features qu'il y a de kernels (tous les sous-lots seront alors identiques)\n",
    "- on peut ne donner qu'un unique lot à la fonction CombinedFeatures, qui sera par défaut associé à l'ensemble des kernels contenus dans CombinedKernels()"
   ]
  },
  {
   "cell_type": "code",
   "execution_count": 8,
   "metadata": {
    "collapsed": true
   },
   "outputs": [],
   "source": [
    "feats_train = CombinedFeatures()\n",
    "feats_test = CombinedFeatures()\n",
    "combined_kernel = CombinedKernel()"
   ]
  },
  {
   "cell_type": "markdown",
   "metadata": {},
   "source": [
    "Shogun dispose de nombreux types de kernels. Les plus fréquemment utilisés restent cependant les kernels Gaussiens, Polynomiaux et Linéaires. \n",
    "\n",
    "- Pour le kernel Gaussien, il n'y a qu'un hyperparamètre à fixer : la largeur de bande.\n",
    "- Pour le kernel Polynomial, il y a deux hyperparamètres : le premier correspond au coefficient dans l'expression du kernel polynomial, et le deuxième au degré. \n",
    "\n",
    "Il est important de préciser, à chaque fois qu'un kernel est créé, le jeu de features auquel il est rattaché, et d'intégrer celui-ci au CombinedFeatures(). \n",
    "De même, le kernel doit être incorporé au CombinedKernel(). \n",
    "\n",
    "Quelques informations sur les hyperparamètres :\n",
    "\n",
    "Plus on diminue la largeur de bande d'un kernel Gaussien, plus on se rapproche d'un comportement linéaire.\n",
    "Plus on l'augmente, plus on risque l'overfeating sur nos données d'entraînement.\n",
    "\n",
    "Pour visualiser ce comportement, consulter : https://remi.flamary.com/demos/svmreg.fr.html"
   ]
  },
  {
   "cell_type": "code",
   "execution_count": 9,
   "metadata": {},
   "outputs": [
    {
     "data": {
      "text/plain": [
       "True"
      ]
     },
     "execution_count": 9,
     "metadata": {},
     "output_type": "execute_result"
    }
   ],
   "source": [
    "#append gaussian kernel\n",
    "\n",
    "subkernel = GaussianKernel(0.1)        \n",
    "feats_train.append_feature_obj(feats1)\n",
    "feats_test.append_feature_obj(feats_rem1)\n",
    "combined_kernel.append_kernel(subkernel)\n",
    "\n",
    "#append PolyKernel\n",
    "\n",
    "subkernel = PolyKernel(5,3)            \n",
    "feats_train.append_feature_obj(feats1)\n",
    "feats_test.append_feature_obj(feats_rem1)\n",
    "combined_kernel.append_kernel(subkernel)\n",
    "    \n",
    "#append Linear Kernel\n",
    "\n",
    "subkernel = LinearKernel()            \n",
    "feats_train.append_feature_obj(feats1)\n",
    "feats_test.append_feature_obj(feats_rem1)\n",
    "combined_kernel.append_kernel(subkernel)\n"
   ]
  },
  {
   "cell_type": "markdown",
   "metadata": {},
   "source": [
    "### Phase d'entraînement\n",
    "\n",
    "La fonction init() permet de lancer l'algorithme. Pour cela, on lui précise deux bases.\n",
    "La première base correspond à la base d'entraînement. La deuxième dépend de ce que l'on souhaite faire :\n",
    "- si on veut réaliser l'entraînement, on précise à nouveau la base d'entraînement\n",
    "- si on veut réaliser le test, on précise la base de test.\n",
    "\n",
    "La fonction MKLMulticlass(C, K, l) prends en arguments le coût C de la classification, le CombinedKernel() et l'ensemble des labels. \n",
    "\n",
    "C'est à l'utilisateur de fixer la valeur de C, qui peut avoir une influence sur la qualité de la classification.\n",
    "\n",
    "Le paramètre mkl_epsilon renvoit au critère d'arrêt du problème d'optimisation. Plus celui-ci est faible, plus on se rapproche de la solution optimale du problème d'optimisation. Mais cela augmente également le temps d'éxécution de l'algorithme.\n",
    "\n",
    "Enfin, mkl_norm renvoie à la contrainte que l'on impose sur la somme des poids des kernels. En effet, en norme 1, on impose que la somme des poids soit égale à un, mais on pourrait tout aussi bien imposer que la somme des carrés des poids soit égale à 1, et on utiliserait pour cela la norme 2 (cela permettrait d'avoir une pondération dense des kernels, par opposition à la solution sparse que renvoie la normalisation L1).\n",
    "\n",
    "Enfin, l'entraînement est réalisé avec la fonction train()\n",
    "\n",
    "Précisions sur l'hyperparamètre C :\n",
    "\n",
    "C est un hyperparamètre qui influence à la quantité d'erreurs de classifications que s'autorise le classifieur. Plus C est grand, plus on autorise d'erreurs. Toutefois, le problème d'optimisation sur lequel s'appuie la classification vise à minimiser la valeur de ces erreurs. Par conséquent plus C est grand, plus il y a d'erreurs à minimiser et plus la complexité de l'algorithme augmente. Mais en contrepartie, si notre problème est non séparable, alors il est nécessaire de s'autoriser un minimum d'erreurs de classification afin d'être capable de trouver un hyperplan séparateur. \n"
   ]
  },
  {
   "cell_type": "code",
   "execution_count": 10,
   "metadata": {},
   "outputs": [
    {
     "data": {
      "text/plain": [
       "True"
      ]
     },
     "execution_count": 10,
     "metadata": {},
     "output_type": "execute_result"
    }
   ],
   "source": [
    "combined_kernel.init(feats_train, feats_train)\n",
    "mkl = MKLMulticlass(1.2, combined_kernel, labels)\n",
    "\n",
    "#mkl.set_mkl_epsilon(1e-5)\n",
    "mkl.set_mkl_norm(1)\n",
    "\n",
    "#Pour la classification binaire\n",
    "    \n",
    "#mkl = MKLClassification()\n",
    "#mkl.set_C(1, 1)\n",
    "#mkl.set_kernel(combined_kernel)\n",
    "#mkl.set_labels(labels)\n",
    "    \n",
    "mkl.train()"
   ]
  },
  {
   "cell_type": "markdown",
   "metadata": {},
   "source": [
    "### Phase de test\n",
    "\n",
    "On utilise maintenant la fonction init() pour réaliser notre test sur l'élément d'indice i. \n",
    "\n",
    "La fonction apply() permet de faire fonctionner l'algorithme pour nos données de test. On stocke la prédiction dans une variable 'out'.\n",
    "\n",
    "On peut remonter à la valeur de l'exactitude en comparant notre variable de sortie 'out' avec les valeurs de prédiction attendues stockées dans label_rem. pour cela on utilise les fonctions MulticlassAccuracy() et evaluate()\n",
    "\n",
    "Il peut également être interessant de visulatiser les poids attribués à chacun de nos kernels, via la fonction get_subkernel_weights()."
   ]
  },
  {
   "cell_type": "code",
   "execution_count": 11,
   "metadata": {},
   "outputs": [
    {
     "name": "stdout",
     "output_type": "stream",
     "text": [
      "[ 0.63447405  0.          0.36552595]\n",
      "Accuracy globale = 100.00%\n"
     ]
    }
   ],
   "source": [
    "combined_kernel.init(feats_train, feats_test)     \n",
    "\n",
    "out =  mkl.apply()\n",
    "evaluator = MulticlassAccuracy()\n",
    "\n",
    "acc = evaluator.evaluate(out, labels_rem)\n",
    "    \n",
    "w = combined_kernel.get_subkernel_weights()\n",
    "    \n",
    "print w\n",
    "    \n",
    "print \"Accuracy globale = %2.2f%%\" % (100*acc)"
   ]
  },
  {
   "cell_type": "markdown",
   "metadata": {},
   "source": [
    "### Méthode de Leave-one-out\n",
    "\n",
    "Afin de réaliser du Leave-one-out, nous avons construit la méthode suivante :\n",
    "\n",
    "- A chaque itération de la boucle for, on retire le i-ème élément de ind, qui constituera notre élément de test. \n",
    "\n",
    "-  le vecteur de poids peut être amené à varier (l'optimisation est refaite à chaque fois). On peut donc volontairement le visualiser à chaque fois, pour constater son évolution entre chaque itération.\n",
    "\n",
    "- En fonction du résultat de la prédiction (0 si mal classé, 1 si bien classé), on augmente la valeur de accuracy_globale, qui, une fois rapportée à la taille de l'effectif, permettra d'évaluer l'exactitude sur l'ensemble des prédictions.\n",
    "\n",
    "- On peut également faire la même chose pour chaque classe individuelle. Il suffit pour cela de connaître leur effectif. \n",
    "\n",
    "- On peut aussi remonter à la prédiction que fait notre algorithme grâce à la fonction get_labels().\n",
    "\n",
    "Afin d'évaluer la durée d'éxécution de toute cette étape, il peut être bon de relever le temps affiché par l'horloge au début (tic) et à la fin (toc). "
   ]
  },
  {
   "cell_type": "code",
   "execution_count": 12,
   "metadata": {},
   "outputs": [
    {
     "name": "stdout",
     "output_type": "stream",
     "text": [
      "[ 0.06189442  0.20620876  0.73189681]\n",
      "[ 0.06198848  0.20927068  0.72874084]\n",
      "[ 0.06209331  0.20710758  0.7307991 ]\n",
      "[ 0.0621794   0.21224113  0.72557947]\n",
      "[ 0.06214283  0.20904841  0.72880876]\n",
      "[ 0.06204713  0.20778195  0.73017092]\n",
      "[ 0.06219707  0.20522413  0.73257879]\n",
      "[ 0.06198714  0.20893339  0.72907947]\n",
      "[ 0.06208561  0.2071782   0.73073619]\n",
      "[ 0.06194841  0.20815456  0.72989702]\n",
      "[ 0.06249116  0.20703896  0.73046988]\n",
      "[ 0.06227355  0.2151269   0.72259955]\n",
      "[ 0.06224511  0.21227528  0.72547961]\n",
      "[ 0.06201072  0.2078261   0.73016318]\n",
      "[ 0.06197178  0.20853127  0.72949695]\n",
      "[ 0.06232975  0.21061082  0.72705944]\n",
      "[ 0.06189851  0.20612011  0.73198138]\n",
      "[ 0.06214449  0.20884066  0.72901484]\n",
      "[ 0.06203752  0.20834784  0.72961464]\n",
      "[ 0.0621315   0.20915769  0.72871081]\n",
      "[ 0.06247242  0.20666038  0.7308672 ]\n",
      "[ 0.06206821  0.20952895  0.72840284]\n",
      "[ 0.06234245  0.21299917  0.72465838]\n",
      "[ 0.0621833   0.20944082  0.72837588]\n",
      "[ 0.061989    0.20685978  0.73115122]\n",
      "[ 0.06203548  0.20658778  0.73137674]\n",
      "[ 0.06246063  0.20855862  0.72898075]\n",
      "[ 0.06211545  0.20878903  0.72909553]\n",
      "[ 0.06185361  0.21164073  0.72650567]\n",
      "[ 0.06216717  0.20881308  0.72901975]\n",
      "[ 0.06203754  0.2083477   0.72961476]\n",
      "[ 0.06204592  0.20829384  0.72966024]\n",
      "[ 0.06210577  0.2085337   0.72936053]\n",
      "[ 0.06203254  0.20900371  0.72896375]\n",
      "[ 0.06209857  0.20794305  0.72995838]\n",
      "[ 0.06230701  0.21325915  0.72443384]\n",
      "[ 0.06235814  0.21343998  0.72420188]\n",
      "[ 0.06210529  0.20943395  0.72846075]\n",
      "[ 0.06205304  0.20845718  0.72948978]\n",
      "[ 0.06191987  0.20604013  0.73203999]\n",
      "[ 0.06194463  0.20758669  0.73046868]\n",
      "[ 0.06193939  0.21194245  0.72611815]\n",
      "[ 0.06281331  0.20644849  0.7307382 ]\n",
      "[ 0.06228248  0.2034286   0.73428893]\n",
      "[ 0.06240173  0.20482489  0.73277338]\n",
      "[ 0.06235439  0.20812476  0.72952085]\n",
      "[ 0.0621201   0.20468953  0.73319038]\n",
      "[ 0.06274575  0.20704039  0.73021386]\n",
      "[ 0.06213409  0.20793826  0.72992765]\n",
      "[ 0.06215359  0.20697687  0.73086954]\n",
      "[ 0.06198349  0.20681768  0.73119883]\n",
      "[ 0.06249693  0.20965874  0.72784432]\n",
      "[ 0.06204368  0.20801349  0.72994283]\n",
      "[ 0.06219325  0.21822658  0.71958017]\n",
      "[ 0.06192931  0.20776827  0.73030242]\n",
      "[ 0.06258702  0.20717787  0.7302351 ]\n",
      "[ 0.06224934  0.21037122  0.72737944]\n",
      "[ 0.0621865   0.20797379  0.72983971]\n",
      "[ 0.06199339  0.20796186  0.73004476]\n",
      "[ 0.06200627  0.21374331  0.72425042]\n",
      "[ 0.06235694  0.2103792   0.72726386]\n",
      "[ 0.06197003  0.20999682  0.72803316]\n",
      "[ 0.06202104  0.21226464  0.72571433]\n",
      "[ 0.06218645  0.20797385  0.7298397 ]\n",
      "[ 0.06195022  0.20835989  0.72968989]\n",
      "[ 0.06224126  0.20694659  0.73081215]\n",
      "[ 0.06212918  0.20396232  0.7339085 ]\n",
      "[ 0.06234318  0.20582917  0.73182766]\n",
      "[ 0.06197665  0.20765561  0.73036773]\n",
      "[ 0.06206828  0.20481806  0.73311367]\n",
      "[ 0.06193859  0.20904783  0.72901359]\n",
      "[ 0.06204549  0.20854956  0.72940495]\n",
      "[ 0.06226134  0.20657367  0.73116499]\n",
      "[ 0.06226237  0.20842124  0.72931639]\n",
      "[ 0.06276804  0.21011512  0.72711683]\n",
      "[ 0.06202839  0.20828215  0.72968946]\n",
      "[ 0.06206443  0.21580518  0.7221304 ]\n",
      "[ 0.06236026  0.21094879  0.72669096]\n",
      "[ 0.06209313  0.20892111  0.72898576]\n",
      "[ 0.06225156  0.20916271  0.72858573]\n",
      "[ 0.06215227  0.20748517  0.73036255]\n",
      "[ 0.06202162  0.21285055  0.72512784]\n",
      "[ 0.0622262   0.21000719  0.72776661]\n",
      "[ 0.06223728  0.2098462   0.72791652]\n",
      "[ 0.06216878  0.21003129  0.72779993]\n",
      "[ 0.06226006  0.20939965  0.72834029]\n",
      "[ 0.06205938  0.20885786  0.72908276]\n",
      "[ 0.06212259  0.20940842  0.72846899]\n",
      "[ 0.06225129  0.20898232  0.72876639]\n",
      "[ 0.06216024  0.20382083  0.73401892]\n",
      "[ 0.06235161  0.20754932  0.73009907]\n",
      "[ 0.0624555   0.20942653  0.72811797]\n",
      "[ 0.06226929  0.20559754  0.73213317]\n",
      "[ 0.06223684  0.20950813  0.72825503]\n",
      "[ 0.06203586  0.2094506   0.72851354]\n",
      "[ 0.06227204  0.20717202  0.73055594]\n",
      "[ 0.06241332  0.20593809  0.73164859]\n",
      "[ 0.06226821  0.20869063  0.72904116]\n",
      "[ 0.06204423  0.20874215  0.72921361]\n",
      "[ 0.06245541  0.20942621  0.72811838]\n",
      "[ 0.06330657  0.20365071  0.73304272]\n",
      "[ 0.06295115  0.20563115  0.73141769]\n",
      "[ 0.06294218  0.20606586  0.73099196]\n",
      "[ 0.06359285  0.20232048  0.73408667]\n",
      "[ 0.06211514  0.20852768  0.72935718]\n",
      "[ 0.06215045  0.20846983  0.72937972]\n",
      "[ 0.06347963  0.2162173   0.72030307]\n",
      "[ 0.06248461  0.19655659  0.7409588 ]\n",
      "[ 0.06222042  0.1984344   0.73934518]\n",
      "[ 0.06209101  0.19969988  0.73820911]\n",
      "[ 0.06212749  0.1989366   0.73893591]\n",
      "[ 0.06216326  0.19841476  0.73942198]\n",
      "Accuracy globale = 75.00%\n"
     ]
    }
   ],
   "source": [
    "accuracy = []\n",
    "prediction = []\n",
    "accuracy_globale = 0\n",
    "\n",
    "tic = time.time()\n",
    "\n",
    "#LOO\n",
    "\n",
    "for i in range(len(Yall)) :\n",
    "\n",
    "    ind = range (len(Yall))\n",
    "    del ind[i]\n",
    "\n",
    "    Xtrain1 = Xall1[:,ind]\n",
    "    Xtrain2 = Xall2[:,ind]\n",
    "    #Xtrain3 = Xall3[:,ind]\n",
    "\n",
    "    Ytrain = Yall[ind]\n",
    "\n",
    "    labels = MulticlassLabels(Ytrain)\n",
    "\n",
    "    feats1  = RealFeatures(Xtrain1)\n",
    "    feats2  = RealFeatures(Xtrain2)\n",
    "    #feats3  = RealFeatures(Xtrain3)\n",
    "\n",
    "    Xrem1 = Xall1[:, i:i+1]\n",
    "    Xrem2 = Xall2[:, i:i+1]\n",
    "    #Xrem3 = Xall3[:, i:i+1]\n",
    "\n",
    "    Yrem = Yall[i:i+1]\n",
    "\n",
    "    labels_rem = MulticlassLabels(Yrem)\n",
    "\n",
    "    feats_rem1 = RealFeatures(Xrem1)\n",
    "    feats_rem2 = RealFeatures(Xrem2)\n",
    "    #feats_rem3 = RealFeatures(Xrem3)\n",
    "    \n",
    "# MKL training and output\n",
    "\n",
    "    feats_train = CombinedFeatures()\n",
    "    feats_test = CombinedFeatures()\n",
    "    combined_kernel = CombinedKernel()\n",
    "\n",
    "\n",
    "##### Pour le premier jeu de features ######    \n",
    "       \n",
    "#append gaussian kernel \n",
    "\n",
    "    subkernel = GaussianKernel(1)        \n",
    "    feats_train.append_feature_obj(feats1)\n",
    "    feats_test.append_feature_obj(feats_rem1)\n",
    "    combined_kernel.append_kernel(subkernel)\n",
    "    \n",
    "#append gaussian kernel\n",
    "\n",
    "    subkernel = GaussianKernel(0.1)        \n",
    "    feats_train.append_feature_obj(feats1)\n",
    "    feats_test.append_feature_obj(feats_rem1)\n",
    "    combined_kernel.append_kernel(subkernel)\n",
    "    \n",
    "\n",
    "#append PolyKernel\n",
    "\n",
    "    #subkernel = PolyKernel(10,3)            \n",
    "    #feats_train.append_feature_obj(feats1)\n",
    "    #feats_test.append_feature_obj(feats_rem1)\n",
    "    #combined_kernel.append_kernel(subkernel)\n",
    "    \n",
    "#append Linear Kernel\n",
    "\n",
    "    #subkernel = LinearKernel()            \n",
    "    #feats_train.append_feature_obj(feats1)\n",
    "    #feats_test.append_feature_obj(feats_rem1)\n",
    "    #combined_kernel.append_kernel(subkernel)\n",
    "\n",
    "\n",
    "##### Pour le deuxième jeu de features ######    \n",
    "    \n",
    "#append gaussian kernel\n",
    "\n",
    "    subkernel = GaussianKernel(0.1)        \n",
    "    feats_train.append_feature_obj(feats2)\n",
    "    feats_test.append_feature_obj(feats_rem2)\n",
    "    combined_kernel.append_kernel(subkernel) \n",
    "\n",
    "#append PolyKernel\n",
    "\n",
    "    #subkernel = PolyKernel(10,3)            \n",
    "    #feats_train.append_feature_obj(feats2)\n",
    "    #feats_test.append_feature_obj(feats_rem2)\n",
    "    #combined_kernel.append_kernel(subkernel)\n",
    "    \n",
    "#append Linear Kernel\n",
    "\n",
    "    #subkernel = LinearKernel()            \n",
    "    #feats_train.append_feature_obj(feats2)\n",
    "    #feats_test.append_feature_obj(feats_rem2)\n",
    "    #combined_kernel.append_kernel(subkernel)\n",
    "    \n",
    "##### Pour le troisième jeu de features ######    \n",
    "    \n",
    "#append gaussian kernel\n",
    "\n",
    "    #subkernel = GaussianKernel(1)        \n",
    "    #feats_train.append_feature_obj(feats3)\n",
    "    #feats_test.append_feature_obj(feats_rem3)\n",
    "    #combined_kernel.append_kernel(subkernel) \n",
    "\n",
    "\n",
    "    combined_kernel.init(feats_train, feats_train)\n",
    "    \n",
    "    mkl = MKLMulticlass(10, combined_kernel, labels)\n",
    "\n",
    "    #mkl.set_epsilon(1e-3)\n",
    "    mkl.set_mkl_epsilon(1e-3)\n",
    "    mkl.set_mkl_norm(1)\n",
    "    \n",
    "    mkl.train()\n",
    "\n",
    "#MKL Test\n",
    "    \n",
    "    combined_kernel.init(feats_train, feats_test)     \n",
    "\n",
    "    out =  mkl.apply()\n",
    "    evaluator = MulticlassAccuracy()\n",
    "\n",
    "    acc = evaluator.evaluate(out, labels_rem)\n",
    "    accuracy.append(acc)\n",
    "    accuracy_globale = accuracy_globale + acc\n",
    "    \n",
    "    w = combined_kernel.get_subkernel_weights()\n",
    "    \n",
    "    prediction.append(out.get_labels().tolist())\n",
    "    result = array(prediction).T.tolist()[0]\n",
    "    #z = out.get_values()\n",
    "    \n",
    "    print w\n",
    "    \n",
    "print \"Accuracy globale = %2.2f%%\" % (100*accuracy_globale/len(Yall))\n",
    "\n",
    "toc = time.time()"
   ]
  },
  {
   "cell_type": "markdown",
   "metadata": {},
   "source": [
    "#### Précisions sur l'exactitude globale\n",
    "\n",
    "La valeur de l'exactitude renvoyée ci-dessus est en fait équivalente à une mesure de sensibilité, car elle mesure le nombre de patients classés dans le bon groupe clinique (équivalent des vrais positifs). On ne peut en revanche pas faire état du nombre de \"vrais négatifs\" car un test qui est négatif pour une des classes est en fait négatif pour 3 des 4 classes restantes... Donc même si un individu est un \"vrai négatif\" pour une classe donnée, il n'y a qu'une chance sur 4 pour qu'il soit en réalité dans la bonne classe... On ne peut le compter juste que s'il est lui-même bien classé. \n",
    "\n",
    "Ce résultat n'est donc pas à interpréter de la même façon que la classification binaire. Ici, on dépasse la notion de \"vrai/faux positif/négatif\", étant donné qu'il y a 5 classes. Ainsi, un classifieur aléatoire obtiendrait une exactitude de 20% et non 50%. Il est intéressant de garder cela à l'esprit en interprétant les résultats, car il est nécessairement plus difficile d'obtenir une bonne valeur d'exactitude en multi-classes qu'en classification binaire. \n",
    "\n",
    "#### Résultats par classes individuelles \n",
    "\n",
    "Ci-dessous sont représentés les valeurs de sensibilité de chaque classe. Il s'agit là encore des \"vrais positifs\", c'est à dire des individus placés dans le bon groupe clinique. \n",
    "\n",
    "Cela ne rend donc pas compte des \"faux positifs\". Ainsi, si on imagine que les individus soient tous mis en classe 1. L'exactitude de la classe 1 serait alors de 100%, car tous les éléments de la classe 1 ont été bien classés. Cependant, un tel test serait complètement inefficace pour déterminer la classe 1, car le nombre de faux positifs relatifs à cette classe serait énorme... \n",
    "\n",
    "Les résultats présentés ici ne servent donc qu'à quantifier le nombre d'éléments bien classés, pour voir quelles classes sont les mieux reconnues, mais ils ne doivent pas être interprétés comme un évaluateur de la qualité de la classification globale pour une classe donnée. Ce résultat sera donné plus loin. "
   ]
  },
  {
   "cell_type": "code",
   "execution_count": 13,
   "metadata": {},
   "outputs": [
    {
     "name": "stdout",
     "output_type": "stream",
     "text": [
      "Sensibilité par classe :\n",
      "Classe 0 = 82.93%\n",
      "Classe 1 = 0.00%\n",
      "Classe 2 = 72.41%\n",
      "Classe 3 = 90.00%\n",
      "Classe 4 = 33.33%\n"
     ]
    }
   ],
   "source": [
    "sens_0 = 0\n",
    "sens_1 = 0\n",
    "sens_2 = 0\n",
    "sens_3 = 0\n",
    "sens_4 = 0\n",
    "\n",
    "print \"Sensibilité par classe :\"\n",
    "\n",
    "for j in range (41) :\n",
    "    sens_0 = sens_0 + accuracy[j]\n",
    "\n",
    "print \"Classe 0 = %2.2f%%\" % (100*sens_0/41)\n",
    "\n",
    "for k in range (41, 47) :\n",
    "    sens_1 = sens_1 + accuracy[k]\n",
    "\n",
    "print \"Classe 1 = %2.2f%%\" % (100*sens_1/6)\n",
    "\n",
    "for l in range (47, 76) :\n",
    "    sens_2 = sens_2 + accuracy[l]\n",
    "\n",
    "print \"Classe 2 = %2.2f%%\" % (100*sens_2/29)\n",
    "\n",
    "for m in range (76,106) :\n",
    "    sens_3 = sens_3 + accuracy[m]\n",
    "\n",
    "print \"Classe 3 = %2.2f%%\" % (100*sens_3/30)\n",
    "\n",
    "for n in range (106,112) :\n",
    "    sens_4 = sens_4 + accuracy[n]\n",
    "\n",
    "print \"Classe 4 = %2.2f%%\" % (100*sens_4/6)"
   ]
  },
  {
   "cell_type": "code",
   "execution_count": 14,
   "metadata": {},
   "outputs": [
    {
     "name": "stdout",
     "output_type": "stream",
     "text": [
      "[0.0, 0.0, 0.0, 2.0, 0.0, 0.0, 0.0, 0.0, 0.0, 0.0, 0.0, 2.0, 2.0, 0.0, 0.0, 0.0, 0.0, 0.0, 0.0, 0.0, 0.0, 0.0, 1.0, 0.0, 0.0, 0.0, 0.0, 0.0, 2.0, 0.0, 0.0, 0.0, 0.0, 0.0, 0.0, 2.0, 2.0, 0.0, 0.0, 0.0, 0.0, 2.0, 0.0, 0.0, 0.0, 0.0, 0.0, 0.0, 2.0, 2.0, 2.0, 3.0, 2.0, 0.0, 2.0, 0.0, 2.0, 2.0, 2.0, 0.0, 0.0, 2.0, 3.0, 2.0, 2.0, 2.0, 2.0, 2.0, 2.0, 2.0, 2.0, 2.0, 2.0, 2.0, 0.0, 2.0, 2.0, 3.0, 3.0, 3.0, 3.0, 2.0, 3.0, 3.0, 3.0, 3.0, 3.0, 3.0, 3.0, 3.0, 3.0, 3.0, 3.0, 3.0, 3.0, 3.0, 3.0, 3.0, 3.0, 3.0, 3.0, 0.0, 3.0, 3.0, 3.0, 3.0, 3.0, 4.0, 0.0, 0.0, 0.0, 4.0]\n"
     ]
    }
   ],
   "source": [
    "print result"
   ]
  },
  {
   "cell_type": "markdown",
   "metadata": {},
   "source": [
    "### Ratio de faux positifs par classe\n",
    "\n",
    "Comme nous l'avons précisé, les résultats précédents ne font état que des éléments bien classés pour chacune des classes, et ne renseignent pas sur les erreurs commises (les \"faux classe N\") \n",
    "\n",
    "La cellule suivante renseigne donc sur le nombre de \"faux classe N\" pour chacune des classes : pour une classe N donnée, ce ratio donne le nombre d'éléments qui ont été mis par erreur dans N. "
   ]
  },
  {
   "cell_type": "code",
   "execution_count": 15,
   "metadata": {
    "scrolled": false
   },
   "outputs": [
    {
     "name": "stdout",
     "output_type": "stream",
     "text": [
      "Ratio de faux positifs par classe :\n",
      "Classe 0 = 36.59%\n",
      "Classe 1 = 16.67%\n",
      "Classe 2 = 31.03%\n",
      "Classe 3 = 10.00%\n",
      "Classe 4 = 0.00%\n"
     ]
    }
   ],
   "source": [
    "sum_0 = 0\n",
    "sum_1 = 0\n",
    "sum_2 = 0\n",
    "sum_3 = 0\n",
    "sum_4 = 0\n",
    "\n",
    "for i in range(len(Yall)) :\n",
    "    if result[i] == 0 :\n",
    "        sum_0 = sum_0 + 1\n",
    "    elif result[i] == 1 :\n",
    "        sum_1 = sum_1 + 1\n",
    "    elif result[i] == 2 :\n",
    "        sum_2 = sum_2 + 1\n",
    "    elif result[i] == 3 :\n",
    "        sum_3 = sum_3 + 1\n",
    "    elif result[i] == 4 :\n",
    "        sum_4 = sum_4 + 1\n",
    "        \n",
    "print 'Ratio de faux positifs par classe :'\n",
    "\n",
    "print \"Classe 0 = %2.2f%%\" % (100*(sum_0 - sens_0)/41)\n",
    "print \"Classe 1 = %2.2f%%\" %(100*(sum_1 - sens_1)/6)\n",
    "print \"Classe 2 = %2.2f%%\" %(100*(sum_2 - sens_2)/29)\n",
    "print \"Classe 3 = %2.2f%%\" %(100*(sum_3 - sens_3)/30)\n",
    "print \"Classe 4 = %2.2f%%\" %(100*(sum_4 - sens_4)/6)"
   ]
  },
  {
   "cell_type": "markdown",
   "metadata": {},
   "source": [
    "### Exactitude de la prédiction\n",
    "\n",
    "Ultimement, nous voudrions savoir avec quelle probabilité un patient prédit classe N appartient véritablement à la classe N. C'est ce que fait la cellule suivante."
   ]
  },
  {
   "cell_type": "code",
   "execution_count": 16,
   "metadata": {},
   "outputs": [
    {
     "name": "stdout",
     "output_type": "stream",
     "text": [
      "Exactitude par classe :\n",
      "Classe 0 = 69.39%\n",
      "Classe 1 = 0.00%\n",
      "Classe 2 = 70.00%\n",
      "Classe 3 = 90.00%\n",
      "Classe 4 = 100.00%\n"
     ]
    }
   ],
   "source": [
    "if sum_0 != 0 :\n",
    "    proba_0 = sens_0/sum_0\n",
    "else :\n",
    "    proba_0 = 0\n",
    "\n",
    "if sum_1 != 0 :\n",
    "    proba_1 = sens_1/sum_1\n",
    "else :\n",
    "    proba_1 = 0\n",
    "\n",
    "if sum_2 != 0 :\n",
    "    proba_2 = sens_2/sum_2\n",
    "else :\n",
    "    proba_2 = 0\n",
    "\n",
    "if sum_3 != 0 :\n",
    "    proba_3 = sens_3/sum_3\n",
    "else :\n",
    "    proba_3 = 0\n",
    "\n",
    "if sum_4 != 0 :\n",
    "    proba_4 = sens_4/sum_4\n",
    "else :\n",
    "    proba_4 = 0\n",
    "\n",
    "\n",
    "print 'Exactitude par classe :'\n",
    "print \"Classe 0 = %2.2f%%\" % (100*proba_0)\n",
    "print \"Classe 1 = %2.2f%%\" % (100*proba_1)\n",
    "print \"Classe 2 = %2.2f%%\" % (100*proba_2)\n",
    "print \"Classe 3 = %2.2f%%\" % (100*proba_3)\n",
    "print \"Classe 4 = %2.2f%%\" % (100*proba_4)"
   ]
  },
  {
   "cell_type": "code",
   "execution_count": 17,
   "metadata": {},
   "outputs": [
    {
     "name": "stdout",
     "output_type": "stream",
     "text": [
      "Temps écoulé = \n",
      "455.188217878\n"
     ]
    }
   ],
   "source": [
    "print \"Temps écoulé = \" \n",
    "print toc-tic"
   ]
  }
 ],
 "metadata": {
  "kernelspec": {
   "display_name": "Python 2",
   "language": "python",
   "name": "python2"
  },
  "language_info": {
   "codemirror_mode": {
    "name": "ipython",
    "version": 2
   },
   "file_extension": ".py",
   "mimetype": "text/x-python",
   "name": "python",
   "nbconvert_exporter": "python",
   "pygments_lexer": "ipython2",
   "version": "2.7.13"
  }
 },
 "nbformat": 4,
 "nbformat_minor": 2
}
